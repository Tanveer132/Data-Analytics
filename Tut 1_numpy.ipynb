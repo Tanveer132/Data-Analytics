{
 "cells": [
  {
   "cell_type": "markdown",
   "metadata": {},
   "source": [
    "# This is tutorial 1: "
   ]
  },
  {
   "cell_type": "markdown",
   "metadata": {},
   "source": [
    "**Numpy-**\n",
    "numpy is a scientific computing library.\n",
    "supports large number of data like multidimentional array.\n",
    "Use of mathematical operations like FT, random no capabilities."
   ]
  },
  {
   "cell_type": "code",
   "execution_count": 1,
   "metadata": {},
   "outputs": [],
   "source": [
    "import numpy as np"
   ]
  },
  {
   "cell_type": "code",
   "execution_count": 2,
   "metadata": {
    "scrolled": true
   },
   "outputs": [
    {
     "name": "stdout",
     "output_type": "stream",
     "text": [
      "[1 2 3 4]\n",
      "1\n",
      "4\n",
      "(4,)\n",
      "int64\n"
     ]
    }
   ],
   "source": [
    "arr_1d=np.array([1,2,3,4])\n",
    "print(arr_1d)\n",
    "print(arr_1d.ndim)     #dimensions of the array\n",
    "print(arr_1d.size)     #size of the array\n",
    "print(arr_1d.shape)    #shape of the array\n",
    "print(arr_1d.dtype)    #datatype of the array"
   ]
  },
  {
   "cell_type": "code",
   "execution_count": 3,
   "metadata": {},
   "outputs": [
    {
     "name": "stdout",
     "output_type": "stream",
     "text": [
      "[[1 2 3 4]\n",
      " [5 6 7 8]]\n",
      "2\n",
      "8\n",
      "(2, 4)\n",
      "int64\n"
     ]
    }
   ],
   "source": [
    "arr_2d=np.array([[1,2,3,4],[5,6,7,8]])\n",
    "print(arr_2d)\n",
    "print(arr_2d.ndim)     #dimensions of the array\n",
    "print(arr_2d.size)     #size of the array\n",
    "print(arr_2d.shape)    #shape of the array\n",
    "print(arr_2d.dtype)    #datatype of the array"
   ]
  },
  {
   "cell_type": "markdown",
   "metadata": {},
   "source": [
    "**Creating an array of ones and zeros**\n"
   ]
  },
  {
   "cell_type": "code",
   "execution_count": 4,
   "metadata": {},
   "outputs": [
    {
     "name": "stdout",
     "output_type": "stream",
     "text": [
      "[[1 1 1 1 1]\n",
      " [1 1 1 1 1]\n",
      " [1 1 1 1 1]\n",
      " [1 1 1 1 1]\n",
      " [1 1 1 1 1]]\n",
      "2\n",
      "25\n",
      "(5, 5)\n",
      "int64\n"
     ]
    }
   ],
   "source": [
    "arr_1s=np.ones((5,5), dtype= int)\n",
    "print(arr_1s)\n",
    "print(arr_1s.ndim)     #dimensions of the array\n",
    "print(arr_1s.size)     #size of the array\n",
    "print(arr_1s.shape)    #shape of the array\n",
    "print(arr_1s.dtype)    #datatype of the array"
   ]
  },
  {
   "cell_type": "code",
   "execution_count": 5,
   "metadata": {},
   "outputs": [
    {
     "name": "stdout",
     "output_type": "stream",
     "text": [
      "[[ True  True  True  True  True]\n",
      " [ True  True  True  True  True]\n",
      " [ True  True  True  True  True]\n",
      " [ True  True  True  True  True]\n",
      " [ True  True  True  True  True]]\n",
      "2\n",
      "25\n",
      "(5, 5)\n",
      "bool\n"
     ]
    }
   ],
   "source": [
    "\n",
    "arr_bool=np.ones((5,5), dtype= bool)\n",
    "print(arr_bool)\n",
    "print(arr_bool.ndim)     #dimensions of the array\n",
    "print(arr_bool.size)     #size of the array\n",
    "print(arr_bool.shape)    #shape of the array\n",
    "print(arr_bool.dtype)    #datatype of the array"
   ]
  },
  {
   "cell_type": "code",
   "execution_count": 6,
   "metadata": {},
   "outputs": [
    {
     "name": "stdout",
     "output_type": "stream",
     "text": [
      "[['1' '1' '1' '1' '1']\n",
      " ['1' '1' '1' '1' '1']\n",
      " ['1' '1' '1' '1' '1']\n",
      " ['1' '1' '1' '1' '1']\n",
      " ['1' '1' '1' '1' '1']]\n",
      "2\n",
      "25\n",
      "(5, 5)\n",
      "<U1\n",
      "[['' '' '' '' '']\n",
      " ['' '' '' '' '']\n",
      " ['' '' '' '' '']\n",
      " ['' '' '' '' '']\n",
      " ['' '' '' '' '']]\n",
      "2\n",
      "25\n",
      "(5, 5)\n",
      "<U1\n"
     ]
    }
   ],
   "source": [
    "arr_str=np.ones((5,5), dtype= str)\n",
    "print(arr_str)\n",
    "print(arr_str.ndim)     #dimensions of the array\n",
    "print(arr_str.size)     #size of the array\n",
    "print(arr_str.shape)    #shape of the array\n",
    "print(arr_str.dtype)    #datatype of the array\n",
    "\n",
    "arr_str=np.zeros((5,5), dtype= str)\n",
    "print(arr_str)\n",
    "print(arr_str.ndim)     #dimensions of the array\n",
    "print(arr_str.size)     #size of the array\n",
    "print(arr_str.shape)    #shape of the array\n",
    "print(arr_str.dtype)    #datatype of the array"
   ]
  },
  {
   "cell_type": "code",
   "execution_count": 7,
   "metadata": {},
   "outputs": [
    {
     "name": "stdout",
     "output_type": "stream",
     "text": [
      "[[2.29565508e-316 0.00000000e+000 0.00000000e+000]\n",
      " [0.00000000e+000 0.00000000e+000 0.00000000e+000]\n",
      " [0.00000000e+000 0.00000000e+000 3.95252517e-322]]\n"
     ]
    }
   ],
   "source": [
    "'''To get the empty matrix.\n",
    "We get garbage value inside the matrix.\n",
    "'''\n",
    "arr_emt=np.empty((3,3))\n",
    "print(arr_emt)"
   ]
  },
  {
   "cell_type": "code",
   "execution_count": null,
   "metadata": {},
   "outputs": [],
   "source": []
  }
 ],
 "metadata": {
  "kernelspec": {
   "display_name": "Python 3",
   "language": "python",
   "name": "python3"
  },
  "language_info": {
   "codemirror_mode": {
    "name": "ipython",
    "version": 3
   },
   "file_extension": ".py",
   "mimetype": "text/x-python",
   "name": "python",
   "nbconvert_exporter": "python",
   "pygments_lexer": "ipython3",
   "version": "3.8.5"
  },
  "varInspector": {
   "cols": {
    "lenName": 16,
    "lenType": 16,
    "lenVar": 40
   },
   "kernels_config": {
    "python": {
     "delete_cmd_postfix": "",
     "delete_cmd_prefix": "del ",
     "library": "var_list.py",
     "varRefreshCmd": "print(var_dic_list())"
    },
    "r": {
     "delete_cmd_postfix": ") ",
     "delete_cmd_prefix": "rm(",
     "library": "var_list.r",
     "varRefreshCmd": "cat(var_dic_list()) "
    }
   },
   "types_to_exclude": [
    "module",
    "function",
    "builtin_function_or_method",
    "instance",
    "_Feature"
   ],
   "window_display": false
  }
 },
 "nbformat": 4,
 "nbformat_minor": 4
}
